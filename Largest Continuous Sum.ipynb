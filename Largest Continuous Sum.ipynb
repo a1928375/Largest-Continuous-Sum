{
 "cells": [
  {
   "cell_type": "markdown",
   "metadata": {},
   "source": [
    "# Mine"
   ]
  },
  {
   "cell_type": "code",
   "execution_count": 10,
   "metadata": {},
   "outputs": [
    {
     "name": "stdout",
     "output_type": "stream",
     "text": [
      "29\n",
      "9\n",
      "1\n",
      "6\n",
      "-1\n",
      "0\n",
      "0\n",
      "9.69 µs ± 2.52 µs per loop (mean ± std. dev. of 7 runs, 100000 loops each)\n"
     ]
    }
   ],
   "source": [
    "def large_cont_sum(arr): \n",
    "\n",
    "    if len(arr) == 0:                        # 注意，一開始我沒寫此判斷式，一定要有 => deal with empty list   \n",
    "        return 0    \n",
    "   \n",
    "    adding = 0\n",
    "    result = 0\n",
    "    \n",
    "    for num in arr:\n",
    "        adding = adding + num\n",
    "        \n",
    "        if adding < result:\n",
    "            adding = result\n",
    "        \n",
    "        if adding >= sum(arr):\n",
    "            result = adding\n",
    "            \n",
    "    if result == 0 and max(arr)<0:              # deal with全負的list\n",
    "        return max(arr)\n",
    "  \n",
    "    return  result      \n",
    "    \n",
    "print (large_cont_sum([1,2,-1,3,4,10,10,-10,-1]))\n",
    "print (large_cont_sum([1,2,-1,3,4,-1]))\n",
    "print (large_cont_sum([-1,1]))\n",
    "print (large_cont_sum([1,2,3]))\n",
    "print (large_cont_sum([-1,-2,-3]))\n",
    "print (large_cont_sum([0,0,0]))\n",
    "print (large_cont_sum([]))\n",
    "\n",
    "%timeit large_cont_sum([1,2,-1,3,4,10,10,-10,-1,1,1,1,1,1,1,1,1,1,1,1,1,1])"
   ]
  },
  {
   "cell_type": "markdown",
   "metadata": {},
   "source": [
    "# Instructor\n",
    "# logical solution"
   ]
  },
  {
   "cell_type": "code",
   "execution_count": 11,
   "metadata": {},
   "outputs": [
    {
     "name": "stdout",
     "output_type": "stream",
     "text": [
      "11.6 µs ± 4 µs per loop (mean ± std. dev. of 7 runs, 100000 loops each)\n"
     ]
    }
   ],
   "source": [
    "def large_cont_sum(arr): \n",
    "    \n",
    "    # Check to see if array is length 0\n",
    "    if len(arr)==0: \n",
    "        return 0\n",
    "    \n",
    "    # Start the max and current sum at the first element\n",
    "    max_sum=current_sum=arr[0] \n",
    "    \n",
    "    # For every element in array\n",
    "    for num in arr[1:]: \n",
    "        \n",
    "        # Set current sum as the higher of the two    \n",
    "        current_sum=max(current_sum+num, num)       # deal with continulos negative elements，Ex: [-1,-2,-3,3]\n",
    "        \n",
    "        # Set max as the higher between the currentSum and the current max\n",
    "        max_sum=max(current_sum, max_sum)           # deal with有 negative & positive的 list  \n",
    "        \n",
    "    return max_sum \n",
    "\n",
    "%timeit large_cont_sum([1,2,-1,3,4,10,10,-10,-1,1,1,1,1,1,1,1,1,1,1,1,1,1])"
   ]
  },
  {
   "cell_type": "code",
   "execution_count": null,
   "metadata": {},
   "outputs": [],
   "source": []
  }
 ],
 "metadata": {
  "kernelspec": {
   "display_name": "Python 3",
   "language": "python",
   "name": "python3"
  },
  "language_info": {
   "codemirror_mode": {
    "name": "ipython",
    "version": 3
   },
   "file_extension": ".py",
   "mimetype": "text/x-python",
   "name": "python",
   "nbconvert_exporter": "python",
   "pygments_lexer": "ipython3",
   "version": "3.7.3"
  }
 },
 "nbformat": 4,
 "nbformat_minor": 2
}
